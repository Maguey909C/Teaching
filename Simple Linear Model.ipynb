{
 "cells": [
  {
   "cell_type": "markdown",
   "metadata": {},
   "source": [
    "### Imports"
   ]
  },
  {
   "cell_type": "code",
   "execution_count": 103,
   "metadata": {},
   "outputs": [],
   "source": [
    "import pandas as pd\n",
    "import numpy as np\n",
    "import matplotlib.pyplot as plt\n",
    "%matplotlib inline"
   ]
  },
  {
   "cell_type": "markdown",
   "metadata": {},
   "source": [
    "Packages are blocks of code other people have written that allow us to focus on functionality rather than writing everything from scratch.  Some developers focus entirely on writing open source packages for people like us to use while other focus on writing packages for internal proprietary products."
   ]
  },
  {
   "cell_type": "markdown",
   "metadata": {},
   "source": [
    "### Load or Create Data"
   ]
  },
  {
   "cell_type": "code",
   "execution_count": null,
   "metadata": {},
   "outputs": [],
   "source": [
    "# df = pd.read_csv(\"C:/Users/user/Desktop/.csv\")"
   ]
  },
  {
   "cell_type": "code",
   "execution_count": 3,
   "metadata": {},
   "outputs": [],
   "source": [
    "age = [43,21,25,42,57,59]\n",
    "glucose = [99,65,79,75,87,81]"
   ]
  },
  {
   "cell_type": "code",
   "execution_count": 8,
   "metadata": {},
   "outputs": [],
   "source": [
    "df = pd.DataFrame(age,columns={'age'})\n",
    "df['glucose'] = glucose"
   ]
  },
  {
   "cell_type": "code",
   "execution_count": 9,
   "metadata": {},
   "outputs": [
    {
     "data": {
      "text/html": [
       "<div>\n",
       "<style scoped>\n",
       "    .dataframe tbody tr th:only-of-type {\n",
       "        vertical-align: middle;\n",
       "    }\n",
       "\n",
       "    .dataframe tbody tr th {\n",
       "        vertical-align: top;\n",
       "    }\n",
       "\n",
       "    .dataframe thead th {\n",
       "        text-align: right;\n",
       "    }\n",
       "</style>\n",
       "<table border=\"1\" class=\"dataframe\">\n",
       "  <thead>\n",
       "    <tr style=\"text-align: right;\">\n",
       "      <th></th>\n",
       "      <th>age</th>\n",
       "      <th>glucose</th>\n",
       "    </tr>\n",
       "  </thead>\n",
       "  <tbody>\n",
       "    <tr>\n",
       "      <th>0</th>\n",
       "      <td>43</td>\n",
       "      <td>99</td>\n",
       "    </tr>\n",
       "    <tr>\n",
       "      <th>1</th>\n",
       "      <td>21</td>\n",
       "      <td>65</td>\n",
       "    </tr>\n",
       "    <tr>\n",
       "      <th>2</th>\n",
       "      <td>25</td>\n",
       "      <td>79</td>\n",
       "    </tr>\n",
       "    <tr>\n",
       "      <th>3</th>\n",
       "      <td>42</td>\n",
       "      <td>75</td>\n",
       "    </tr>\n",
       "    <tr>\n",
       "      <th>4</th>\n",
       "      <td>57</td>\n",
       "      <td>87</td>\n",
       "    </tr>\n",
       "    <tr>\n",
       "      <th>5</th>\n",
       "      <td>59</td>\n",
       "      <td>81</td>\n",
       "    </tr>\n",
       "  </tbody>\n",
       "</table>\n",
       "</div>"
      ],
      "text/plain": [
       "   age  glucose\n",
       "0   43       99\n",
       "1   21       65\n",
       "2   25       79\n",
       "3   42       75\n",
       "4   57       87\n",
       "5   59       81"
      ]
     },
     "execution_count": 9,
     "metadata": {},
     "output_type": "execute_result"
    }
   ],
   "source": [
    "df"
   ]
  },
  {
   "cell_type": "markdown",
   "metadata": {},
   "source": [
    "For the moment this is our toy dataset that shows the age of various people (x) and their glucose levels (y). We want to know what is the line of best for these data points, or in other words if we were going to add a new user, what would be an accurate prediction of their gluclose level? "
   ]
  },
  {
   "cell_type": "markdown",
   "metadata": {},
   "source": [
    "For a simple linear function:"
   ]
  },
  {
   "cell_type": "markdown",
   "metadata": {},
   "source": [
    "y = a + bx"
   ]
  },
  {
   "cell_type": "markdown",
   "metadata": {},
   "source": [
    "y = dependent variable (predictor)\n",
    "a = constant (y intercept)\n",
    "x = independent variable\n",
    "b = slope"
   ]
  },
  {
   "cell_type": "markdown",
   "metadata": {},
   "source": [
    "### Calculating the line of best fit"
   ]
  },
  {
   "attachments": {
    "image.png": {
     "image/png": "[encoded data removed]"
    }
   },
   "cell_type": "markdown",
   "metadata": {},
   "source": [
    "![image.png](attachment:image.png)"
   ]
  },
  {
   "cell_type": "markdown",
   "metadata": {},
   "source": [
    "### Plot the Data"
   ]
  },
  {
   "cell_type": "code",
   "execution_count": 106,
   "metadata": {},
   "outputs": [
    {
     "data": {
      "image/png": "[encoded data removed]",
      "text/plain": [
       "<Figure size 576x396 with 1 Axes>"
      ]
     },
     "metadata": {},
     "output_type": "display_data"
    }
   ],
   "source": [
    "plt.style.use('seaborn')\n",
    "df.plot(x='age',y='glucose',kind='scatter',color='r');\n",
    "plt.show()"
   ]
  },
  {
   "cell_type": "markdown",
   "metadata": {},
   "source": [
    "What line could we draw that would minimize the area of squares from the various points?"
   ]
  },
  {
   "cell_type": "code",
   "execution_count": null,
   "metadata": {},
   "outputs": [],
   "source": [
    "http://setosa.io/ev/ordinary-least-squares-regression/"
   ]
  },
  {
   "cell_type": "code",
   "execution_count": null,
   "metadata": {},
   "outputs": [],
   "source": [
    "https://365datascience.com/sum-squares/"
   ]
  },
  {
   "cell_type": "markdown",
   "metadata": {},
   "source": [
    "### Diving In:"
   ]
  },
  {
   "cell_type": "markdown",
   "metadata": {},
   "source": [
    "We could just start coding this with some loops and storing the results in variables, but this would not be ideal. Why?"
   ]
  },
  {
   "cell_type": "code",
   "execution_count": 86,
   "metadata": {},
   "outputs": [
    {
     "data": {
      "text/plain": [
       "247"
      ]
     },
     "execution_count": 86,
     "metadata": {},
     "output_type": "execute_result"
    }
   ],
   "source": [
    "sum(df['age'])"
   ]
  },
  {
   "cell_type": "code",
   "execution_count": 87,
   "metadata": {},
   "outputs": [
    {
     "data": {
      "text/plain": [
       "486"
      ]
     },
     "execution_count": 87,
     "metadata": {},
     "output_type": "execute_result"
    }
   ],
   "source": [
    "sum(df['glucose'])"
   ]
  },
  {
   "cell_type": "code",
   "execution_count": 88,
   "metadata": {},
   "outputs": [
    {
     "data": {
      "text/plain": [
       "array([43, 21, 25, 42, 57, 59])"
      ]
     },
     "execution_count": 88,
     "metadata": {},
     "output_type": "execute_result"
    }
   ],
   "source": [
    "np.asarray(df['age'])"
   ]
  },
  {
   "cell_type": "code",
   "execution_count": 90,
   "metadata": {},
   "outputs": [
    {
     "name": "stdout",
     "output_type": "stream",
     "text": [
      "1849\n",
      "441\n",
      "625\n",
      "1764\n",
      "3249\n",
      "3481\n"
     ]
    }
   ],
   "source": [
    "for num in np.asarray(df['age']):\n",
    "    print (num**2)"
   ]
  },
  {
   "cell_type": "markdown",
   "metadata": {},
   "source": [
    "### Writing Functions"
   ]
  },
  {
   "cell_type": "markdown",
   "metadata": {},
   "source": [
    "Functions are reusable container that performs some operation on objects (lists, arrays, strings, integers, booleans, etc). They will prove vary useful as we move foward with our regression model.  "
   ]
  },
  {
   "cell_type": "code",
   "execution_count": 53,
   "metadata": {},
   "outputs": [],
   "source": [
    "def multiplyXY(x,y):\n",
    "    \n",
    "    return np.asarray(x) * np.asarray(y)\n",
    "\n",
    "def squareIt(x):\n",
    "    \n",
    "    squared_values = []\n",
    "    for number in x:\n",
    "        new_value = number**2\n",
    "        squared_values.append(new_value)\n",
    "    return squared_values\n",
    "\n",
    "def squareIt2(x):\n",
    "    \"\"\"\n",
    "    List comprehension\n",
    "    \"\"\"\n",
    "    squared_values = [num**2 for num in x]\n",
    "    return squared_values\n",
    "\n",
    "def squareIt3(x):\n",
    "    \"\"\"\n",
    "    Map Lambda Function\n",
    "    \"\"\"\n",
    "    squared_values = list(map(lambda val: val**2, x))\n",
    "    return squared_values\n",
    "    \n",
    "\n",
    "def calculateA(df):\n",
    "    \n",
    "    return ?"
   ]
  },
  {
   "cell_type": "code",
   "execution_count": 54,
   "metadata": {},
   "outputs": [
    {
     "data": {
      "text/plain": [
       "65.14"
      ]
     },
     "execution_count": 54,
     "metadata": {},
     "output_type": "execute_result"
    }
   ],
   "source": [
    "calculateA(df)"
   ]
  },
  {
   "cell_type": "markdown",
   "metadata": {},
   "source": [
    "### Can you write a function for b?"
   ]
  },
  {
   "cell_type": "code",
   "execution_count": null,
   "metadata": {},
   "outputs": [],
   "source": [
    "def calculateB(df):\n",
    "    return ?"
   ]
  },
  {
   "cell_type": "code",
   "execution_count": 85,
   "metadata": {},
   "outputs": [
    {
     "data": {
      "text/plain": [
       "0.38522"
      ]
     },
     "execution_count": 85,
     "metadata": {},
     "output_type": "execute_result"
    }
   ],
   "source": [
    "calculateB(df)"
   ]
  },
  {
   "cell_type": "markdown",
   "metadata": {},
   "source": [
    "### Now that we have A & B, can you write a function for Y?"
   ]
  },
  {
   "cell_type": "code",
   "execution_count": 116,
   "metadata": {},
   "outputs": [],
   "source": [
    "def calculateY(df,new_point):\n",
    "\n",
    "    return ?"
   ]
  },
  {
   "cell_type": "code",
   "execution_count": 117,
   "metadata": {},
   "outputs": [
    {
     "data": {
      "text/plain": [
       "88.0"
      ]
     },
     "execution_count": 117,
     "metadata": {},
     "output_type": "execute_result"
    }
   ],
   "source": [
    "calculateY(df,60)"
   ]
  },
  {
   "cell_type": "markdown",
   "metadata": {},
   "source": [
    "### Let's plot y against our original datapoints"
   ]
  },
  {
   "cell_type": "code",
   "execution_count": 123,
   "metadata": {},
   "outputs": [
    {
     "data": {
      "image/png": "[encoded data removed]",
      "text/plain": [
       "<Figure size 576x396 with 1 Axes>"
      ]
     },
     "metadata": {},
     "output_type": "display_data"
    }
   ],
   "source": [
    "X = df['age']\n",
    "y = df['glucose']\n",
    "\n",
    "a = calculateA(df)\n",
    "b = calculateB(df)\n",
    "\n",
    "def s(a,b,x):\n",
    "    return a+(b*x)\n",
    "\n",
    "fig, ax = plt.subplots()\n",
    "ax.scatter(X,y,color='red')\n",
    "ax.plot(np.asarray(X),s(a,b,X))\n",
    "ax.set_xlabel(\"age\")\n",
    "ax.set_ylabel(\"glucose\");\n",
    "ax.set_title(\"Regression Line Showing Relationship of Age & Glucose\");"
   ]
  },
  {
   "cell_type": "markdown",
   "metadata": {},
   "source": [
    "### So let's generate some new points now that we have the functions"
   ]
  },
  {
   "cell_type": "code",
   "execution_count": 131,
   "metadata": {},
   "outputs": [],
   "source": [
    "new_people = [24,46,35,55,39]"
   ]
  },
  {
   "cell_type": "code",
   "execution_count": 132,
   "metadata": {},
   "outputs": [
    {
     "data": {
      "text/plain": [
       "[74.0, 83.0, 79.0, 86.0, 80.0]"
      ]
     },
     "execution_count": 132,
     "metadata": {},
     "output_type": "execute_result"
    }
   ],
   "source": [
    "new_glucose = []\n",
    "for person in new_people:\n",
    "    new_glucose.append(calculateY(df,person))\n",
    "new_glucose"
   ]
  },
  {
   "cell_type": "markdown",
   "metadata": {},
   "source": [
    "### Let's add this back to our original dataset and plot it again"
   ]
  },
  {
   "cell_type": "code",
   "execution_count": 133,
   "metadata": {},
   "outputs": [
    {
     "data": {
      "text/html": [
       "<div>\n",
       "<style scoped>\n",
       "    .dataframe tbody tr th:only-of-type {\n",
       "        vertical-align: middle;\n",
       "    }\n",
       "\n",
       "    .dataframe tbody tr th {\n",
       "        vertical-align: top;\n",
       "    }\n",
       "\n",
       "    .dataframe thead th {\n",
       "        text-align: right;\n",
       "    }\n",
       "</style>\n",
       "<table border=\"1\" class=\"dataframe\">\n",
       "  <thead>\n",
       "    <tr style=\"text-align: right;\">\n",
       "      <th></th>\n",
       "      <th>age</th>\n",
       "      <th>glucose</th>\n",
       "    </tr>\n",
       "  </thead>\n",
       "  <tbody>\n",
       "    <tr>\n",
       "      <th>0</th>\n",
       "      <td>43</td>\n",
       "      <td>99.0</td>\n",
       "    </tr>\n",
       "    <tr>\n",
       "      <th>1</th>\n",
       "      <td>21</td>\n",
       "      <td>65.0</td>\n",
       "    </tr>\n",
       "    <tr>\n",
       "      <th>2</th>\n",
       "      <td>25</td>\n",
       "      <td>79.0</td>\n",
       "    </tr>\n",
       "    <tr>\n",
       "      <th>3</th>\n",
       "      <td>42</td>\n",
       "      <td>75.0</td>\n",
       "    </tr>\n",
       "    <tr>\n",
       "      <th>4</th>\n",
       "      <td>57</td>\n",
       "      <td>87.0</td>\n",
       "    </tr>\n",
       "    <tr>\n",
       "      <th>5</th>\n",
       "      <td>59</td>\n",
       "      <td>81.0</td>\n",
       "    </tr>\n",
       "    <tr>\n",
       "      <th>6</th>\n",
       "      <td>24</td>\n",
       "      <td>74.0</td>\n",
       "    </tr>\n",
       "    <tr>\n",
       "      <th>7</th>\n",
       "      <td>46</td>\n",
       "      <td>83.0</td>\n",
       "    </tr>\n",
       "    <tr>\n",
       "      <th>8</th>\n",
       "      <td>35</td>\n",
       "      <td>79.0</td>\n",
       "    </tr>\n",
       "    <tr>\n",
       "      <th>9</th>\n",
       "      <td>55</td>\n",
       "      <td>86.0</td>\n",
       "    </tr>\n",
       "    <tr>\n",
       "      <th>10</th>\n",
       "      <td>39</td>\n",
       "      <td>80.0</td>\n",
       "    </tr>\n",
       "  </tbody>\n",
       "</table>\n",
       "</div>"
      ],
      "text/plain": [
       "    age  glucose\n",
       "0    43     99.0\n",
       "1    21     65.0\n",
       "2    25     79.0\n",
       "3    42     75.0\n",
       "4    57     87.0\n",
       "5    59     81.0\n",
       "6    24     74.0\n",
       "7    46     83.0\n",
       "8    35     79.0\n",
       "9    55     86.0\n",
       "10   39     80.0"
      ]
     },
     "execution_count": 133,
     "metadata": {},
     "output_type": "execute_result"
    }
   ],
   "source": [
    "new_ages = age + new_people\n",
    "glucose_2 = glucose + new_glucose\n",
    "\n",
    "df = pd.DataFrame(new_ages,columns={'age'})\n",
    "df['glucose'] = glucose_2\n",
    "df"
   ]
  },
  {
   "cell_type": "code",
   "execution_count": 134,
   "metadata": {},
   "outputs": [
    {
     "data": {
      "image/png": "[encoded data removed]",
      "text/plain": [
       "<Figure size 576x396 with 1 Axes>"
      ]
     },
     "metadata": {},
     "output_type": "display_data"
    }
   ],
   "source": [
    "X = df['age']\n",
    "y = df['glucose']\n",
    "\n",
    "a = calculateA(df)\n",
    "b = calculateB(df)\n",
    "\n",
    "fig, ax = plt.subplots()\n",
    "ax.scatter(X,y,color='red')\n",
    "ax.plot(np.asarray(X),s(a,b,X))\n",
    "ax.set_xlabel(\"age\")\n",
    "ax.set_ylabel(\"glucose\");\n",
    "ax.set_title(\"Regression Line Showing Relationship of Age & Glucose\");"
   ]
  },
  {
   "cell_type": "markdown",
   "metadata": {},
   "source": [
    "Congratulations! This is the line of best fit based on our new datapoints! We have created our first simple linear model."
   ]
  },
  {
   "cell_type": "markdown",
   "metadata": {},
   "source": [
    "### Using more robust libraries"
   ]
  },
  {
   "cell_type": "code",
   "execution_count": 137,
   "metadata": {},
   "outputs": [],
   "source": [
    "import statsmodels.api as sm"
   ]
  },
  {
   "cell_type": "code",
   "execution_count": 143,
   "metadata": {},
   "outputs": [],
   "source": [
    "df['const'] = 1"
   ]
  },
  {
   "cell_type": "code",
   "execution_count": 144,
   "metadata": {},
   "outputs": [],
   "source": [
    "regression = sm.OLS(endog=df['glucose'], exog=df[['age','const']])"
   ]
  },
  {
   "cell_type": "code",
   "execution_count": 145,
   "metadata": {},
   "outputs": [],
   "source": [
    "results= regression.fit()"
   ]
  },
  {
   "cell_type": "code",
   "execution_count": 146,
   "metadata": {},
   "outputs": [
    {
     "name": "stdout",
     "output_type": "stream",
     "text": [
      "                            OLS Regression Results                            \n",
      "==============================================================================\n",
      "Dep. Variable:                glucose   R-squared:                       0.360\n",
      "Model:                            OLS   Adj. R-squared:                  0.289\n",
      "Method:                 Least Squares   F-statistic:                     5.067\n",
      "Date:                Mon, 05 Aug 2019   Prob (F-statistic):             0.0509\n",
      "Time:                        23:40:26   Log-Likelihood:                -36.287\n",
      "No. Observations:                  11   AIC:                             76.57\n",
      "Df Residuals:                       9   BIC:                             77.37\n",
      "Df Model:                           1                                         \n",
      "Covariance Type:            nonrobust                                         \n",
      "==============================================================================\n",
      "                 coef    std err          t      P>|t|      [0.025      0.975]\n",
      "------------------------------------------------------------------------------\n",
      "age            0.3855      0.171      2.251      0.051      -0.002       0.773\n",
      "const         65.0951      7.280      8.942      0.000      48.626      81.564\n",
      "==============================================================================\n",
      "Omnibus:                       10.301   Durbin-Watson:                   2.213\n",
      "Prob(Omnibus):                  0.006   Jarque-Bera (JB):                4.912\n",
      "Skew:                           1.344   Prob(JB):                       0.0858\n",
      "Kurtosis:                       4.868   Cond. No.                         142.\n",
      "==============================================================================\n",
      "\n",
      "Warnings:\n",
      "[1] Standard Errors assume that the covariance matrix of the errors is correctly specified.\n"
     ]
    },
    {
     "name": "stderr",
     "output_type": "stream",
     "text": [
      "/Users/chaserenick/anaconda3/lib/python3.7/site-packages/scipy/stats/stats.py:1416: UserWarning: kurtosistest only valid for n>=20 ... continuing anyway, n=11\n",
      "  \"anyway, n=%i\" % int(n))\n"
     ]
    }
   ],
   "source": [
    "print (results.summary())"
   ]
  },
  {
   "cell_type": "markdown",
   "metadata": {},
   "source": [
    "#### Do you remember the equation y = ax+b? \n",
    "\n",
    "#### Can you see where in the OLS regression results that information is contained?"
   ]
  },
  {
   "cell_type": "code",
   "execution_count": 150,
   "metadata": {},
   "outputs": [
    {
     "name": "stdout",
     "output_type": "stream",
     "text": [
      "calculateA = 65.1 \n",
      "calculateB = 0.38555\n"
     ]
    }
   ],
   "source": [
    "print (\"calculateA =\",a,\"\\n\" \"calculateB =\", b)"
   ]
  },
  {
   "cell_type": "markdown",
   "metadata": {},
   "source": [
    "y = a + bx"
   ]
  },
  {
   "cell_type": "markdown",
   "metadata": {},
   "source": [
    "y = const + age(x)"
   ]
  },
  {
   "cell_type": "markdown",
   "metadata": {},
   "source": [
    "#### There is a lot of other valuable information on this chart. \n",
    "#### What would be a good evaluation metric for this model? Why?"
   ]
  },
  {
   "cell_type": "code",
   "execution_count": null,
   "metadata": {},
   "outputs": [],
   "source": []
  },
  {
   "cell_type": "markdown",
   "metadata": {},
   "source": [
    "### Reference Guide:"
   ]
  },
  {
   "cell_type": "code",
   "execution_count": null,
   "metadata": {},
   "outputs": [],
   "source": [
    "def multiplyXY(x,y):\n",
    "    \n",
    "    return np.asarray(x) * np.asarray(y)\n",
    "\n",
    "def squareIt(x):\n",
    "    \n",
    "    squared_values = []\n",
    "    for number in x:\n",
    "        new_value = number**2\n",
    "        squared_values.append(new_value)\n",
    "    return squared_values\n",
    "\n",
    "def squareIt2(x):\n",
    "    \"\"\"\n",
    "    List comprehension\n",
    "    \"\"\"\n",
    "    squared_values = [num**2 for num in x]\n",
    "    return squared_values\n",
    "\n",
    "def squareIt3(x):\n",
    "    \"\"\"\n",
    "    Map Lambda Function\n",
    "    \"\"\"\n",
    "    squared_values = list(map(lambda val: val**2, x))\n",
    "    return squared_values\n",
    "    \n",
    "\n",
    "def calculateA(df):\n",
    "    x = list(df['age'])\n",
    "    y = list(df['glucose'])\n",
    "    \n",
    "    #Break up dataframe\n",
    "    rows, columns = df.shape\n",
    "    \n",
    "    sumy = sum(y)\n",
    "    sumxsquared = sum(squareIt(x))\n",
    "    sumx = sum(x)\n",
    "    sumxy = sum(multiplyXY(x,y))\n",
    "    n = rows\n",
    "    \n",
    "    a = ((sumy*sumxsquared) - (sumx*sumxy)) / ((n*sumxsquared)-(sumx)**2)\n",
    "    \n",
    "    return round(a,2)\n",
    "\n",
    "def calculateB(df):\n",
    "    x = list(df['age'])\n",
    "    y = list(df['glucose'])\n",
    "    \n",
    "    #Break up dataframe\n",
    "    rows, columns = df.shape\n",
    "    \n",
    "    sumy = sum(y)\n",
    "    sumxsquared = sum(squareIt(x))\n",
    "    sumx = sum(x)\n",
    "    sumxy = sum(multiplyXY(x,y))\n",
    "    n = rows\n",
    "    \n",
    "    b = (n*(sumxy) - (sumx*sumy)) / ((n*sumxsquared)-(sumx**2))\n",
    "    return round(b,5)\n",
    "\n",
    "def calculateY(df,new_point):\n",
    "    \n",
    "    a = calculateA(df)\n",
    "    b = calculateB(df)\n",
    "    \n",
    "    y = a+(b*new_point)\n",
    "    return round(y)"
   ]
  }
 ],
 "metadata": {
  "kernelspec": {
   "display_name": "Python 3",
   "language": "python",
   "name": "python3"
  },
  "language_info": {
   "codemirror_mode": {
    "name": "ipython",
    "version": 3
   },
   "file_extension": ".py",
   "mimetype": "text/x-python",
   "name": "python",
   "nbconvert_exporter": "python",
   "pygments_lexer": "ipython3",
   "version": "3.7.3"
  }
 },
 "nbformat": 4,
 "nbformat_minor": 2
}
